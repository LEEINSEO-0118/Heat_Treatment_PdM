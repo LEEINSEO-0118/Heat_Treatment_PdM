{
 "cells": [
  {
   "cell_type": "markdown",
   "metadata": {},
   "source": [
    "# Import & Setting"
   ]
  },
  {
   "cell_type": "code",
   "execution_count": 305,
   "metadata": {},
   "outputs": [],
   "source": [
    "import numpy as np\n",
    "import pandas as pd\n",
    "import matplotlib.pyplot as plt\n",
    "from matplotlib import rc\n",
    "import seaborn as sns\n",
    "\n",
    "import random\n",
    "import torch\n",
    "import torch.nn as nn\n",
    "import torch.optim as optim\n",
    "import torch.nn.functional as F\n",
    "from torch.utils.data import Dataset, DataLoader\n",
    "from tqdm.auto import tqdm\n",
    "from sklearn.metrics import f1_score\n",
    "from sklearn.metrics import confusion_matrix\n",
    "from sklearn.metrics import classification_report\n",
    "\n",
    "pd.options.display.float_format = '{:.15f}'.format\n"
   ]
  },
  {
   "cell_type": "markdown",
   "metadata": {},
   "source": [
    "# Parameter Setting"
   ]
  },
  {
   "cell_type": "code",
   "execution_count": 2,
   "metadata": {},
   "outputs": [],
   "source": [
    "CFG = {\n",
    "    'EPOCHS':60,\n",
    "    'LEARNING_RATE':1e-3,\n",
    "    'BATCH_SIZE':64,\n",
    "    'SEED':41\n",
    "}"
   ]
  },
  {
   "cell_type": "markdown",
   "metadata": {},
   "source": [
    "# Seed"
   ]
  },
  {
   "cell_type": "code",
   "execution_count": 3,
   "metadata": {},
   "outputs": [],
   "source": [
    "def seed_everything(seed):\n",
    "    random.seed(seed)\n",
    "    np.random.seed(seed)\n",
    "    torch.manual_seed(seed)\n",
    "    torch.cuda.manual_seed(seed)\n",
    "    torch.cuda.manual_seed_all(seed)  # 다중 GPU 환경\n",
    "    torch.backends.cudnn.deterministic = True  # 결정론적 알고리즘 강제\n",
    "    torch.backends.cudnn.benchmark = False     # 알고리즘 선택 비활성화\n",
    "\n",
    "seed_everything(CFG['SEED']) # Seed 고정"
   ]
  },
  {
   "cell_type": "markdown",
   "metadata": {},
   "source": [
    "# Load Data"
   ]
  },
  {
   "cell_type": "code",
   "execution_count": 4,
   "metadata": {},
   "outputs": [],
   "source": [
    "file_path = '/Users/toad/Documents/ToyProject/Heat_Treatment_PdM/'"
   ]
  },
  {
   "cell_type": "code",
   "execution_count": 5,
   "metadata": {},
   "outputs": [],
   "source": [
    "train = pd.read_csv(file_path+'Data/train_normal.csv').drop(columns='Unnamed: 0')\n",
    "valid = pd.read_csv(file_path+'Data/valid_normal.csv').drop(columns='Unnamed: 0')\n",
    "test = pd.read_csv(file_path+'Data/test_normal.csv').drop(columns='Unnamed: 0')\n",
    "anomaly = pd.read_csv(file_path+'Data/anomaly_data.csv').drop(columns='Unnamed: 0')"
   ]
  },
  {
   "cell_type": "code",
   "execution_count": 6,
   "metadata": {},
   "outputs": [
    {
     "name": "stdout",
     "output_type": "stream",
     "text": [
      "Normal Data\n",
      "- Train Data : 2020534\n",
      "- Valid Data : 288648\n",
      "- Test Data : 288648\n",
      "--------------------------------\n",
      "Anomaly Data : 2717\n"
     ]
    }
   ],
   "source": [
    "print(f'Normal Data')\n",
    "print(f'- Train Data : {len(train)}')\n",
    "print(f'- Valid Data : {len(valid)}')\n",
    "print(f'- Test Data : {len(test)}')\n",
    "print(f'--------------------------------')\n",
    "print(f'Anomaly Data : {len(anomaly)}')"
   ]
  },
  {
   "cell_type": "code",
   "execution_count": 7,
   "metadata": {},
   "outputs": [
    {
     "data": {
      "text/html": [
       "<div>\n",
       "<style scoped>\n",
       "    .dataframe tbody tr th:only-of-type {\n",
       "        vertical-align: middle;\n",
       "    }\n",
       "\n",
       "    .dataframe tbody tr th {\n",
       "        vertical-align: top;\n",
       "    }\n",
       "\n",
       "    .dataframe thead th {\n",
       "        text-align: right;\n",
       "    }\n",
       "</style>\n",
       "<table border=\"1\" class=\"dataframe\">\n",
       "  <thead>\n",
       "    <tr style=\"text-align: right;\">\n",
       "      <th></th>\n",
       "      <th>CP(제어) OP</th>\n",
       "      <th>건조 1존 OP</th>\n",
       "      <th>건조 2존 OP</th>\n",
       "      <th>건조로 온도 1 Zone</th>\n",
       "      <th>건조로 온도 2 Zone</th>\n",
       "      <th>세정기</th>\n",
       "      <th>소입1존 OP</th>\n",
       "      <th>소입2존 OP</th>\n",
       "      <th>소입3존 OP</th>\n",
       "      <th>소입4존 OP</th>\n",
       "      <th>...</th>\n",
       "      <th>소입로 CP 모니터 값</th>\n",
       "      <th>소입로 온도 2 Zone</th>\n",
       "      <th>솔트 1존 OP</th>\n",
       "      <th>솔트 2존 OP</th>\n",
       "      <th>솔트 슬러지 제거</th>\n",
       "      <th>솔트 컨베이어 온도 1 Zone</th>\n",
       "      <th>솔트 컨베이어 온도 2 Zone</th>\n",
       "      <th>솔트조 온도 1 Zone</th>\n",
       "      <th>outliers_cnt</th>\n",
       "      <th>anomaly</th>\n",
       "    </tr>\n",
       "  </thead>\n",
       "  <tbody>\n",
       "    <tr>\n",
       "      <th>0</th>\n",
       "      <td>27.5181</td>\n",
       "      <td>69.4988</td>\n",
       "      <td>28.0363</td>\n",
       "      <td>100.366</td>\n",
       "      <td>100.353</td>\n",
       "      <td>69.2698</td>\n",
       "      <td>84.3415</td>\n",
       "      <td>57.7779</td>\n",
       "      <td>50.8080</td>\n",
       "      <td>70.3781</td>\n",
       "      <td>...</td>\n",
       "      <td>1.149530e-10</td>\n",
       "      <td>860.286</td>\n",
       "      <td>70.7822</td>\n",
       "      <td>59.7691</td>\n",
       "      <td>325.772</td>\n",
       "      <td>288.802</td>\n",
       "      <td>285.324</td>\n",
       "      <td>328.856</td>\n",
       "      <td>1</td>\n",
       "      <td>0</td>\n",
       "    </tr>\n",
       "    <tr>\n",
       "      <th>1</th>\n",
       "      <td>27.5181</td>\n",
       "      <td>69.5777</td>\n",
       "      <td>28.2541</td>\n",
       "      <td>100.366</td>\n",
       "      <td>100.353</td>\n",
       "      <td>69.2698</td>\n",
       "      <td>89.9508</td>\n",
       "      <td>58.0981</td>\n",
       "      <td>49.5654</td>\n",
       "      <td>70.6791</td>\n",
       "      <td>...</td>\n",
       "      <td>1.150360e-10</td>\n",
       "      <td>860.272</td>\n",
       "      <td>72.1144</td>\n",
       "      <td>59.8864</td>\n",
       "      <td>325.711</td>\n",
       "      <td>288.728</td>\n",
       "      <td>285.311</td>\n",
       "      <td>328.783</td>\n",
       "      <td>1</td>\n",
       "      <td>0</td>\n",
       "    </tr>\n",
       "    <tr>\n",
       "      <th>2</th>\n",
       "      <td>28.8494</td>\n",
       "      <td>69.6464</td>\n",
       "      <td>30.5821</td>\n",
       "      <td>100.366</td>\n",
       "      <td>100.291</td>\n",
       "      <td>69.2085</td>\n",
       "      <td>85.0744</td>\n",
       "      <td>58.0155</td>\n",
       "      <td>51.0691</td>\n",
       "      <td>70.6326</td>\n",
       "      <td>...</td>\n",
       "      <td>1.149300e-10</td>\n",
       "      <td>860.272</td>\n",
       "      <td>72.1144</td>\n",
       "      <td>59.8864</td>\n",
       "      <td>325.833</td>\n",
       "      <td>288.789</td>\n",
       "      <td>285.372</td>\n",
       "      <td>328.783</td>\n",
       "      <td>2</td>\n",
       "      <td>0</td>\n",
       "    </tr>\n",
       "    <tr>\n",
       "      <th>3</th>\n",
       "      <td>28.8494</td>\n",
       "      <td>69.8280</td>\n",
       "      <td>28.3900</td>\n",
       "      <td>100.428</td>\n",
       "      <td>100.353</td>\n",
       "      <td>69.2698</td>\n",
       "      <td>84.9387</td>\n",
       "      <td>57.9397</td>\n",
       "      <td>49.4850</td>\n",
       "      <td>70.6453</td>\n",
       "      <td>...</td>\n",
       "      <td>1.150360e-10</td>\n",
       "      <td>860.272</td>\n",
       "      <td>71.0169</td>\n",
       "      <td>59.8864</td>\n",
       "      <td>325.833</td>\n",
       "      <td>288.728</td>\n",
       "      <td>285.372</td>\n",
       "      <td>328.844</td>\n",
       "      <td>1</td>\n",
       "      <td>0</td>\n",
       "    </tr>\n",
       "    <tr>\n",
       "      <th>4</th>\n",
       "      <td>28.8494</td>\n",
       "      <td>72.1245</td>\n",
       "      <td>26.3033</td>\n",
       "      <td>100.366</td>\n",
       "      <td>100.353</td>\n",
       "      <td>69.2085</td>\n",
       "      <td>84.9810</td>\n",
       "      <td>57.9252</td>\n",
       "      <td>49.4771</td>\n",
       "      <td>70.6567</td>\n",
       "      <td>...</td>\n",
       "      <td>1.150360e-10</td>\n",
       "      <td>860.272</td>\n",
       "      <td>71.0169</td>\n",
       "      <td>59.8864</td>\n",
       "      <td>325.833</td>\n",
       "      <td>288.728</td>\n",
       "      <td>285.372</td>\n",
       "      <td>328.844</td>\n",
       "      <td>1</td>\n",
       "      <td>0</td>\n",
       "    </tr>\n",
       "  </tbody>\n",
       "</table>\n",
       "<p>5 rows × 21 columns</p>\n",
       "</div>"
      ],
      "text/plain": [
       "   CP(제어) OP  건조 1존 OP  건조 2존 OP  건조로 온도 1 Zone  건조로 온도 2 Zone      세정기  \\\n",
       "0    27.5181   69.4988   28.0363        100.366        100.353  69.2698   \n",
       "1    27.5181   69.5777   28.2541        100.366        100.353  69.2698   \n",
       "2    28.8494   69.6464   30.5821        100.366        100.291  69.2085   \n",
       "3    28.8494   69.8280   28.3900        100.428        100.353  69.2698   \n",
       "4    28.8494   72.1245   26.3033        100.366        100.353  69.2085   \n",
       "\n",
       "   소입1존 OP  소입2존 OP  소입3존 OP  소입4존 OP  ...  소입로 CP 모니터 값  소입로 온도 2 Zone  \\\n",
       "0  84.3415  57.7779  50.8080  70.3781  ...  1.149530e-10        860.286   \n",
       "1  89.9508  58.0981  49.5654  70.6791  ...  1.150360e-10        860.272   \n",
       "2  85.0744  58.0155  51.0691  70.6326  ...  1.149300e-10        860.272   \n",
       "3  84.9387  57.9397  49.4850  70.6453  ...  1.150360e-10        860.272   \n",
       "4  84.9810  57.9252  49.4771  70.6567  ...  1.150360e-10        860.272   \n",
       "\n",
       "   솔트 1존 OP  솔트 2존 OP  솔트 슬러지 제거  솔트 컨베이어 온도 1 Zone  솔트 컨베이어 온도 2 Zone  \\\n",
       "0   70.7822   59.7691    325.772            288.802            285.324   \n",
       "1   72.1144   59.8864    325.711            288.728            285.311   \n",
       "2   72.1144   59.8864    325.833            288.789            285.372   \n",
       "3   71.0169   59.8864    325.833            288.728            285.372   \n",
       "4   71.0169   59.8864    325.833            288.728            285.372   \n",
       "\n",
       "   솔트조 온도 1 Zone  outliers_cnt  anomaly  \n",
       "0        328.856             1        0  \n",
       "1        328.783             1        0  \n",
       "2        328.783             2        0  \n",
       "3        328.844             1        0  \n",
       "4        328.844             1        0  \n",
       "\n",
       "[5 rows x 21 columns]"
      ]
     },
     "metadata": {},
     "output_type": "display_data"
    },
    {
     "name": "stdout",
     "output_type": "stream",
     "text": [
      "Columns : ['CP(제어) OP' '건조 1존 OP' '건조 2존 OP' '건조로 온도 1 Zone' '건조로 온도 2 Zone' '세정기'\n",
      " '소입1존 OP' '소입2존 OP' '소입3존 OP' '소입4존 OP' '소입로 CP 값' '소입로 CP 모니터 값'\n",
      " '소입로 온도 2 Zone' '솔트 1존 OP' '솔트 2존 OP' '솔트 슬러지 제거' '솔트 컨베이어 온도 1 Zone'\n",
      " '솔트 컨베이어 온도 2 Zone' '솔트조 온도 1 Zone' 'outliers_cnt' 'anomaly']\n"
     ]
    }
   ],
   "source": [
    "display(train.head())\n",
    "print(f'Columns : {train.columns.values}')"
   ]
  },
  {
   "cell_type": "markdown",
   "metadata": {},
   "source": [
    "# Data Processing"
   ]
  },
  {
   "cell_type": "markdown",
   "metadata": {},
   "source": [
    "#### Delete outliers count & anomaly feature"
   ]
  },
  {
   "cell_type": "code",
   "execution_count": 8,
   "metadata": {},
   "outputs": [
    {
     "name": "stdout",
     "output_type": "stream",
     "text": [
      "train cols : 21\n",
      "valid cols : 21\n",
      "test cols : 21\n",
      "anomaly cols : 21\n",
      "train cols : 19\n",
      "valid cols : 19\n",
      "test cols : 20\n",
      "anomaly cols : 20\n"
     ]
    }
   ],
   "source": [
    "print(f'''train cols : {len(train.columns)}\n",
    "valid cols : {len(valid.columns)}\n",
    "test cols : {len(test.columns)}\n",
    "anomaly cols : {len(anomaly.columns)}''')\n",
    "train.drop(columns=['outliers_cnt', 'anomaly'], inplace=True)\n",
    "valid.drop(columns=['outliers_cnt', 'anomaly'], inplace=True)\n",
    "test.drop(columns=['outliers_cnt'], inplace=True)\n",
    "anomaly.drop(columns=['outliers_cnt'], inplace=True)\n",
    "print(f'''train cols : {len(train.columns)}\n",
    "valid cols : {len(valid.columns)}\n",
    "test cols : {len(test.columns)}\n",
    "anomaly cols : {len(anomaly.columns)}''')"
   ]
  },
  {
   "cell_type": "markdown",
   "metadata": {},
   "source": [
    "#### Scaling"
   ]
  },
  {
   "cell_type": "code",
   "execution_count": 9,
   "metadata": {},
   "outputs": [],
   "source": [
    "from sklearn.preprocessing import MinMaxScaler\n",
    "\n",
    "scaler = MinMaxScaler()\n",
    "\n",
    "# For normal Test data\n",
    "train_scaled = scaler.fit_transform(train)\n",
    "valid_scaled = scaler.transform(valid)\n",
    "# test_scaled = scaler.transform(test)\n",
    "# anomaly_scaled = scaler.transform(anomaly)"
   ]
  },
  {
   "cell_type": "markdown",
   "metadata": {},
   "source": [
    "# Dataset\n"
   ]
  },
  {
   "cell_type": "code",
   "execution_count": 10,
   "metadata": {},
   "outputs": [
    {
     "name": "stdout",
     "output_type": "stream",
     "text": [
      "cpu\n"
     ]
    }
   ],
   "source": [
    "device = torch.device('cuda') if torch.cuda.is_available() else torch.device('cpu')\n",
    "print(device)"
   ]
  },
  {
   "cell_type": "code",
   "execution_count": 11,
   "metadata": {},
   "outputs": [],
   "source": [
    "class CustomDataset(Dataset):\n",
    "    def __init__(self, data):\n",
    "        self.data = data\n",
    "\n",
    "        \n",
    "    def __getitem__(self, index): \n",
    "        return self.data[index]\n",
    "        \n",
    "    def __len__(self): \n",
    "        return self.data.shape[0]"
   ]
  },
  {
   "cell_type": "code",
   "execution_count": 12,
   "metadata": {},
   "outputs": [],
   "source": [
    "train_dataset = CustomDataset(train_scaled)\n",
    "valid_dataset = CustomDataset(valid_scaled)\n",
    "# test_dataset = CustomDataset(test_scaled)\n",
    "# anomaly_dataset = CustomDataset(anomaly_scaled)\n",
    "\n",
    "train_dataloader = DataLoader(train_dataset, batch_size=CFG['BATCH_SIZE'], shuffle=True)\n",
    "valid_dataloader = DataLoader(valid_dataset, batch_size=CFG['BATCH_SIZE'], shuffle=True)\n",
    "# test_dataloader = DataLoader(test_dataset, batch_size=CFG['BATCH_SIZE'], shuffle=True)\n",
    "# anomaly_dataloader = DataLoader(anomaly_dataset, batch_size=CFG['BATCH_SIZE'], shuffle=True)"
   ]
  },
  {
   "cell_type": "markdown",
   "metadata": {},
   "source": [
    "# Modeling"
   ]
  },
  {
   "cell_type": "code",
   "execution_count": 13,
   "metadata": {},
   "outputs": [],
   "source": [
    "class AutoEncoder(nn.Module):\n",
    "    def __init__(self):\n",
    "        super(AutoEncoder, self).__init__()\n",
    "        self.Encoder = nn.Sequential(\n",
    "            nn.Linear(19,32),\n",
    "            nn.ReLU(),\n",
    "            nn.Linear(32, 64),\n",
    "            nn.ReLU(),\n",
    "            nn.Linear(64, 128),\n",
    "            nn.ReLU()\n",
    "        )\n",
    "\n",
    "        self.Decoder = nn.Sequential(\n",
    "            nn.Linear(128,64),\n",
    "            nn.ReLU(),\n",
    "            nn.Linear(64,32),\n",
    "            nn.ReLU(),\n",
    "            nn.Linear(32,19),\n",
    "            nn.ReLU(),\n",
    "        )\n",
    "        \n",
    "    def forward(self, x):\n",
    "        x = self.Encoder(x)\n",
    "        x = self.Decoder(x)\n",
    "        return x"
   ]
  },
  {
   "cell_type": "markdown",
   "metadata": {},
   "source": [
    "# Train"
   ]
  },
  {
   "cell_type": "code",
   "execution_count": 14,
   "metadata": {},
   "outputs": [],
   "source": [
    "def loss_plot(train_loss, valid_loss):\n",
    "    plt.plot(train_loss, label='Train Loss')\n",
    "    plt.plot(valid_loss, label='Valid Loss')\n",
    "    plt.yscale(\"log\")  # Y축 로그 스케일\n",
    "    plt.ylabel(\"Loss (Log Scale)\")\n",
    "    plt.legend()\n",
    "    plt.show()"
   ]
  },
  {
   "cell_type": "code",
   "execution_count": 15,
   "metadata": {},
   "outputs": [],
   "source": [
    "class Trainer():\n",
    "    def __init__(self, model, optimizer, train_loader, valid_loader, device):\n",
    "        self.model = model\n",
    "        self.optimizer = optimizer\n",
    "        self.train_loader = train_loader\n",
    "        self.valid_loader = valid_loader\n",
    "        self.device = device\n",
    "        # Loss function\n",
    "        self.criterion = nn.MSELoss().to(self.device)\n",
    "        # Loss array\n",
    "        self.train_mean_list = []\n",
    "        self.valid_mean_list = []\n",
    "    \n",
    "    def fit(self,):\n",
    "        self.model.to(self.device)\n",
    "        best_loss = 100000000\n",
    "        \n",
    "        for epoch in range(CFG['EPOCHS']):\n",
    "            self.model.train()\n",
    "            train_loss = []\n",
    "            \n",
    "            for x in iter(self.train_loader):\n",
    "                x = x.float().to(self.device)\n",
    "                self.optimizer.zero_grad()\n",
    "\n",
    "                _x = self.model(x) # after autoencoder\n",
    "                loss = self.criterion(x, _x)\n",
    "\n",
    "                loss.backward()\n",
    "                self.optimizer.step()\n",
    "\n",
    "                train_loss.append(loss.item())\n",
    "\n",
    "            valid_loss = self.validation(self.model)\n",
    "            \n",
    "            mean_train_loss = np.mean(train_loss)\n",
    "            mean_valid_loss = np.mean(valid_loss)\n",
    "            self.train_mean_list.append(mean_train_loss)\n",
    "            self.valid_mean_list.append(mean_valid_loss)\n",
    "            \n",
    "            print(f'Epoch : [{epoch}] Train Loss : [{mean_train_loss:.20f}] Valid Loss : [{mean_valid_loss:.20f}]')\n",
    "            \n",
    "            if mean_valid_loss < best_loss:\n",
    "                best_loss = mean_valid_loss\n",
    "                torch.save(self.model.state_dict(), f'{epoch}_best_model.pth')\n",
    "            # else:\n",
    "            #     print(f'Early Stopping in Epoch : [{epoch}] Best Loss : [{best_loss}]')\n",
    "            #     loss_plot(train_mean_list, valid_mean_list) # visualize loss\n",
    "            #     break\n",
    "        loss_plot(self.train_mean_list, self.valid_mean_list) # visualize loss\n",
    "    \n",
    "    def validation(self, model):\n",
    "        model.eval()\n",
    "        valid_loss = []\n",
    "        with torch.no_grad():\n",
    "            for x in iter(self.valid_loader):\n",
    "                x = x.float().to(self.device)\n",
    "                _x = model(x)\n",
    "                loss = self.criterion(x, _x)\n",
    "                valid_loss.append(loss.item())\n",
    "        return valid_loss\n"
   ]
  },
  {
   "cell_type": "code",
   "execution_count": 16,
   "metadata": {},
   "outputs": [],
   "source": [
    "# model = AutoEncoder()\n",
    "# optimizer = optim.Adam(params=model.parameters(), lr=CFG['LEARNING_RATE'])\n",
    "\n",
    "# trainer = Trainer(model, optimizer, train_dataloader, valid_dataloader, device)\n",
    "# trainer.fit()"
   ]
  },
  {
   "cell_type": "markdown",
   "metadata": {},
   "source": [
    "Kaggle P100 Training Result \n",
    "- Best Model \n",
    "    - Epoch : [51]  \n",
    "    - Train Loss : [0.00000356411259314551]  \n",
    "    - Valid Loss : [0.00000229669710111774]\n",
    "- Loss Plot\n",
    "    \n",
    "    <img src=\"/Users/toad/Documents/ToyProject/Heat_Treatment_PdM/Epoch60_Loss.png\" alt=\"이미지 설명\" width=\"500\" height=\"400\">"
   ]
  },
  {
   "cell_type": "markdown",
   "metadata": {},
   "source": [
    "# Inference"
   ]
  },
  {
   "cell_type": "code",
   "execution_count": 18,
   "metadata": {},
   "outputs": [],
   "source": [
    "# Validation Function\n",
    "def validation(model, valid_loader, criterion):\n",
    "        valid_loss = []\n",
    "        with torch.no_grad():\n",
    "            for x in iter(valid_loader):\n",
    "                x = x.float().to(device)\n",
    "                _x = model(x)\n",
    "                loss = criterion(x, _x)\n",
    "                valid_loss.append(loss.item())\n",
    "        return valid_loss"
   ]
  },
  {
   "cell_type": "code",
   "execution_count": 19,
   "metadata": {},
   "outputs": [
    {
     "data": {
      "text/plain": [
       "AutoEncoder(\n",
       "  (Encoder): Sequential(\n",
       "    (0): Linear(in_features=19, out_features=32, bias=True)\n",
       "    (1): ReLU()\n",
       "    (2): Linear(in_features=32, out_features=64, bias=True)\n",
       "    (3): ReLU()\n",
       "    (4): Linear(in_features=64, out_features=128, bias=True)\n",
       "    (5): ReLU()\n",
       "  )\n",
       "  (Decoder): Sequential(\n",
       "    (0): Linear(in_features=128, out_features=64, bias=True)\n",
       "    (1): ReLU()\n",
       "    (2): Linear(in_features=64, out_features=32, bias=True)\n",
       "    (3): ReLU()\n",
       "    (4): Linear(in_features=32, out_features=19, bias=True)\n",
       "    (5): ReLU()\n",
       "  )\n",
       ")"
      ]
     },
     "execution_count": 19,
     "metadata": {},
     "output_type": "execute_result"
    }
   ],
   "source": [
    "model = AutoEncoder()\n",
    "model.load_state_dict(torch.load(file_path+'/Code/best_model.pth', map_location=torch.device('cpu')))\n",
    "model.to(device)\n",
    "model.eval()"
   ]
  },
  {
   "cell_type": "code",
   "execution_count": null,
   "metadata": {},
   "outputs": [
    {
     "name": "stdout",
     "output_type": "stream",
     "text": [
      "Valid Loss : 0.00000229669310084562\n"
     ]
    }
   ],
   "source": [
    "# Check Best Model Correctly Loaded\n",
    "valid_loss = validation(model, valid_dataloader, nn.MSELoss().to(device))\n",
    "print(f'Valid Loss : {np.mean(valid_loss):.20f}')"
   ]
  },
  {
   "cell_type": "code",
   "execution_count": 71,
   "metadata": {},
   "outputs": [],
   "source": [
    "cols = test.columns\n",
    "test_scaled = scaler.transform(test.iloc[:,:-1])\n",
    "test_dataset = CustomDataset(test_scaled)\n",
    "test_dataloader = DataLoader(test_dataset, batch_size=CFG['BATCH_SIZE'], shuffle=False)\n"
   ]
  },
  {
   "cell_type": "code",
   "execution_count": 94,
   "metadata": {},
   "outputs": [
    {
     "data": {
      "text/plain": [
       "288648"
      ]
     },
     "execution_count": 94,
     "metadata": {},
     "output_type": "execute_result"
    }
   ],
   "source": [
    "len(test)"
   ]
  },
  {
   "cell_type": "code",
   "execution_count": 385,
   "metadata": {},
   "outputs": [],
   "source": [
    "def predict(model, data_loader, criterion, title):\n",
    "    loss_list = []\n",
    "    with torch.no_grad():\n",
    "        for x in iter(data_loader):\n",
    "                x = x.float().to(device)\n",
    "                _x = model(x)\n",
    "                x = x.cpu().numpy()\n",
    "                _x = _x.cpu().numpy()\n",
    "                loss = np.abs(x - _x).mean(axis=1)\n",
    "                loss_list.extend(loss.tolist())\n",
    "    print(f'Mean Loss : {np.mean(loss_list):.20f}')\n",
    "    return np.array(loss_list)"
   ]
  },
  {
   "cell_type": "code",
   "execution_count": 443,
   "metadata": {},
   "outputs": [],
   "source": [
    "def predict_plot(loss, title):\n",
    "    plt.figure(figsize=(12, 6))  # 가로 12, 세로 6\n",
    "    sns.histplot(loss, bins=200, kde=True, kde_kws={'bw_adjust': 1.5})\n",
    "    # plt.yscale(\"log\")  # Y축 로그 스케일\n",
    "    # plt.xlim(0, 0.01) \n",
    "    plt.ticklabel_format(useOffset=False, style='plain')  # 일반 숫자 형식\n",
    "    plt.title(title)\n",
    "    plt.tight_layout()\n",
    "    plt.show()"
   ]
  },
  {
   "cell_type": "code",
   "execution_count": 386,
   "metadata": {},
   "outputs": [
    {
     "name": "stdout",
     "output_type": "stream",
     "text": [
      "Mean Loss : 0.00076027527217529406\n",
      "Mean Loss : 0.00084067291275487265\n"
     ]
    }
   ],
   "source": [
    "train_loss = predict(model, train_dataloader, nn.MSELoss(reduction='none'), 'Train Data Distribution')\n",
    "valid_loss = predict(model, valid_dataloader, nn.MSELoss(reduction='none'), 'Valid Data Distribution')"
   ]
  },
  {
   "cell_type": "code",
   "execution_count": 387,
   "metadata": {},
   "outputs": [
    {
     "data": {
      "text/plain": [
       "((2020534,), (288648,))"
      ]
     },
     "execution_count": 387,
     "metadata": {},
     "output_type": "execute_result"
    }
   ],
   "source": [
    "train_loss.shape, valid_loss.shape"
   ]
  },
  {
   "cell_type": "code",
   "execution_count": 444,
   "metadata": {},
   "outputs": [
    {
     "data": {
      "image/png": "[encoded data removed]",
      "text/plain": [
       "<Figure size 1200x600 with 1 Axes>"
      ]
     },
     "metadata": {},
     "output_type": "display_data"
    }
   ],
   "source": [
    "predict_plot(train_loss, 'Train Data Distribution')"
   ]
  },
  {
   "cell_type": "code",
   "execution_count": 455,
   "metadata": {},
   "outputs": [
    {
     "data": {
      "text/plain": [
       "0.0020291665470613214"
      ]
     },
     "execution_count": 455,
     "metadata": {},
     "output_type": "execute_result"
    }
   ],
   "source": [
    "len(train_loss[train_loss > 0.01]) / len(train_loss) * 100"
   ]
  },
  {
   "cell_type": "code",
   "execution_count": 445,
   "metadata": {},
   "outputs": [
    {
     "data": {
      "image/png": "[encoded data removed]",
      "text/plain": [
       "<Figure size 1200x600 with 1 Axes>"
      ]
     },
     "metadata": {},
     "output_type": "display_data"
    }
   ],
   "source": [
    "predict_plot(valid_loss, 'Valid Data Distribution')"
   ]
  },
  {
   "cell_type": "code",
   "execution_count": 454,
   "metadata": {},
   "outputs": [
    {
     "data": {
      "text/plain": [
       "0.13164823591363875"
      ]
     },
     "execution_count": 454,
     "metadata": {},
     "output_type": "execute_result"
    }
   ],
   "source": [
    "len(valid_loss[valid_loss > 0.01])/len(valid_loss)*100"
   ]
  },
  {
   "cell_type": "code",
   "execution_count": 394,
   "metadata": {},
   "outputs": [
    {
     "name": "stdout",
     "output_type": "stream",
     "text": [
      "Mean Loss : 0.00082743132883099911\n"
     ]
    }
   ],
   "source": [
    "test_loss = predict(model, test_dataloader, nn.MSELoss(reduction='none'), 'Train Data Distribution')"
   ]
  },
  {
   "cell_type": "code",
   "execution_count": 446,
   "metadata": {},
   "outputs": [
    {
     "data": {
      "image/png": "[encoded data removed]",
      "text/plain": [
       "<Figure size 1200x600 with 1 Axes>"
      ]
     },
     "metadata": {},
     "output_type": "display_data"
    }
   ],
   "source": [
    "predict_plot(test_loss, 'Test Data Distribution')"
   ]
  },
  {
   "cell_type": "code",
   "execution_count": 456,
   "metadata": {},
   "outputs": [
    {
     "data": {
      "text/plain": [
       "0.1427344031484715"
      ]
     },
     "execution_count": 456,
     "metadata": {},
     "output_type": "execute_result"
    }
   ],
   "source": [
    "len(test_loss[test_loss > 0.01])/len(test_loss)*100"
   ]
  },
  {
   "cell_type": "code",
   "execution_count": 398,
   "metadata": {},
   "outputs": [],
   "source": [
    "anomaly_scaled = scaler.transform(anomaly.iloc[:,:-1])\n",
    "anomaly_dataset = CustomDataset(anomaly_scaled)\n",
    "anomaly_dataloader = DataLoader(anomaly_dataset, batch_size=CFG['BATCH_SIZE'], shuffle=False)"
   ]
  },
  {
   "cell_type": "code",
   "execution_count": 399,
   "metadata": {},
   "outputs": [
    {
     "name": "stdout",
     "output_type": "stream",
     "text": [
      "Mean Loss : 0.21874125400403179875\n"
     ]
    }
   ],
   "source": [
    "anomaly_loss = predict(model, anomaly_dataloader, nn.MSELoss(reduction='none'), 'Anomaly Data Distribution')"
   ]
  },
  {
   "cell_type": "code",
   "execution_count": 447,
   "metadata": {},
   "outputs": [
    {
     "data": {
      "image/png": "[encoded data removed]",
      "text/plain": [
       "<Figure size 1200x600 with 1 Axes>"
      ]
     },
     "metadata": {},
     "output_type": "display_data"
    }
   ],
   "source": [
    "predict_plot(anomaly_loss, 'anomaly Data Distribution')"
   ]
  },
  {
   "cell_type": "code",
   "execution_count": 457,
   "metadata": {},
   "outputs": [
    {
     "data": {
      "text/plain": [
       "70.44534412955466"
      ]
     },
     "execution_count": 457,
     "metadata": {},
     "output_type": "execute_result"
    }
   ],
   "source": [
    "len(anomaly_loss[anomaly_loss > 0.01])/len(anomaly_loss)*100"
   ]
  },
  {
   "cell_type": "code",
   "execution_count": 462,
   "metadata": {},
   "outputs": [
    {
     "name": "stdout",
     "output_type": "stream",
     "text": [
      "288648 2717 291365\n"
     ]
    },
    {
     "data": {
      "text/html": [
       "<div>\n",
       "<style scoped>\n",
       "    .dataframe tbody tr th:only-of-type {\n",
       "        vertical-align: middle;\n",
       "    }\n",
       "\n",
       "    .dataframe tbody tr th {\n",
       "        vertical-align: top;\n",
       "    }\n",
       "\n",
       "    .dataframe thead th {\n",
       "        text-align: right;\n",
       "    }\n",
       "</style>\n",
       "<table border=\"1\" class=\"dataframe\">\n",
       "  <thead>\n",
       "    <tr style=\"text-align: right;\">\n",
       "      <th></th>\n",
       "      <th>loss</th>\n",
       "      <th>answer</th>\n",
       "      <th>predict</th>\n",
       "    </tr>\n",
       "  </thead>\n",
       "  <tbody>\n",
       "    <tr>\n",
       "      <th>0</th>\n",
       "      <td>0.000670801673550</td>\n",
       "      <td>0</td>\n",
       "      <td>0</td>\n",
       "    </tr>\n",
       "    <tr>\n",
       "      <th>1</th>\n",
       "      <td>0.000694911752362</td>\n",
       "      <td>0</td>\n",
       "      <td>0</td>\n",
       "    </tr>\n",
       "    <tr>\n",
       "      <th>2</th>\n",
       "      <td>0.000678613025229</td>\n",
       "      <td>0</td>\n",
       "      <td>0</td>\n",
       "    </tr>\n",
       "    <tr>\n",
       "      <th>3</th>\n",
       "      <td>0.000677340896800</td>\n",
       "      <td>0</td>\n",
       "      <td>0</td>\n",
       "    </tr>\n",
       "    <tr>\n",
       "      <th>4</th>\n",
       "      <td>0.000662073493004</td>\n",
       "      <td>0</td>\n",
       "      <td>0</td>\n",
       "    </tr>\n",
       "    <tr>\n",
       "      <th>...</th>\n",
       "      <td>...</td>\n",
       "      <td>...</td>\n",
       "      <td>...</td>\n",
       "    </tr>\n",
       "    <tr>\n",
       "      <th>291360</th>\n",
       "      <td>0.012710069306195</td>\n",
       "      <td>1</td>\n",
       "      <td>1</td>\n",
       "    </tr>\n",
       "    <tr>\n",
       "      <th>291361</th>\n",
       "      <td>0.010172890499234</td>\n",
       "      <td>1</td>\n",
       "      <td>1</td>\n",
       "    </tr>\n",
       "    <tr>\n",
       "      <th>291362</th>\n",
       "      <td>0.011568796820939</td>\n",
       "      <td>1</td>\n",
       "      <td>1</td>\n",
       "    </tr>\n",
       "    <tr>\n",
       "      <th>291363</th>\n",
       "      <td>0.006705311592668</td>\n",
       "      <td>1</td>\n",
       "      <td>1</td>\n",
       "    </tr>\n",
       "    <tr>\n",
       "      <th>291364</th>\n",
       "      <td>0.012036812491715</td>\n",
       "      <td>1</td>\n",
       "      <td>1</td>\n",
       "    </tr>\n",
       "  </tbody>\n",
       "</table>\n",
       "<p>291365 rows × 3 columns</p>\n",
       "</div>"
      ],
      "text/plain": [
       "                    loss  answer  predict\n",
       "0      0.000670801673550       0        0\n",
       "1      0.000694911752362       0        0\n",
       "2      0.000678613025229       0        0\n",
       "3      0.000677340896800       0        0\n",
       "4      0.000662073493004       0        0\n",
       "...                  ...     ...      ...\n",
       "291360 0.012710069306195       1        1\n",
       "291361 0.010172890499234       1        1\n",
       "291362 0.011568796820939       1        1\n",
       "291363 0.006705311592668       1        1\n",
       "291364 0.012036812491715       1        1\n",
       "\n",
       "[291365 rows x 3 columns]"
      ]
     },
     "execution_count": 462,
     "metadata": {},
     "output_type": "execute_result"
    }
   ],
   "source": [
    "thr = 0.001\n",
    "\n",
    "test_df = pd.DataFrame(test_loss, columns=['loss'])\n",
    "test_df['answer'] = 0\n",
    "test_df['predict'] = (test_df.loss > thr).astype(int)\n",
    "\n",
    "anomaly_df = pd.DataFrame(anomaly_loss, columns=['loss'])\n",
    "anomaly_df['answer'] = 1\n",
    "anomaly_df['predict'] = (anomaly_df.loss > thr).astype(int)\n",
    "\n",
    "result_df = pd.concat([test_df, anomaly_df], axis=0)\n",
    "result_df.reset_index(drop=True, inplace=True)\n",
    "print(len(test_df), len(anomaly_df), len(test_df)+len(anomaly_df))\n",
    "result_df\n"
   ]
  },
  {
   "cell_type": "code",
   "execution_count": 463,
   "metadata": {},
   "outputs": [
    {
     "data": {
      "text/plain": [
       "<Axes: >"
      ]
     },
     "execution_count": 463,
     "metadata": {},
     "output_type": "execute_result"
    },
    {
     "data": {
      "image/png": "[encoded data removed]",
      "text/plain": [
       "<Figure size 640x480 with 2 Axes>"
      ]
     },
     "metadata": {},
     "output_type": "display_data"
    }
   ],
   "source": [
    "cm = confusion_matrix(result_df.answer, result_df.predict)\n",
    "class_names = ['Normal', 'Anomaly']\n",
    "sns.heatmap(cm, annot=True, fmt='d', cmap='Blues', xticklabels=class_names, yticklabels=class_names)\n"
   ]
  },
  {
   "cell_type": "code",
   "execution_count": 464,
   "metadata": {},
   "outputs": [
    {
     "data": {
      "text/plain": [
       "0.145761888045797"
      ]
     },
     "execution_count": 464,
     "metadata": {},
     "output_type": "execute_result"
    }
   ],
   "source": [
    "f1_score(result_df.answer, result_df.predict)"
   ]
  },
  {
   "cell_type": "code",
   "execution_count": 465,
   "metadata": {},
   "outputs": [
    {
     "name": "stdout",
     "output_type": "stream",
     "text": [
      "              precision    recall  f1-score   support\n",
      "\n",
      "      Normal       1.00      0.89      0.94    288648\n",
      "     Anomaly       0.08      0.99      0.15      2717\n",
      "\n",
      "    accuracy                           0.89    291365\n",
      "   macro avg       0.54      0.94      0.54    291365\n",
      "weighted avg       0.99      0.89      0.93    291365\n",
      "\n"
     ]
    }
   ],
   "source": [
    "print(classification_report(result_df.answer, result_df.predict, target_names=class_names))"
   ]
  },
  {
   "cell_type": "code",
   "execution_count": null,
   "metadata": {},
   "outputs": [],
   "source": []
  }
 ],
 "metadata": {
  "kernelspec": {
   "display_name": "base",
   "language": "python",
   "name": "python3"
  },
  "language_info": {
   "codemirror_mode": {
    "name": "ipython",
    "version": 3
   },
   "file_extension": ".py",
   "mimetype": "text/x-python",
   "name": "python",
   "nbconvert_exporter": "python",
   "pygments_lexer": "ipython3",
   "version": "3.11.3"
  }
 },
 "nbformat": 4,
 "nbformat_minor": 2
}
