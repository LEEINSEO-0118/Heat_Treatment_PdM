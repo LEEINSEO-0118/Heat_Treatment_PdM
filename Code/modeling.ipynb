{
 "cells": [
  {
   "cell_type": "markdown",
   "metadata": {},
   "source": [
    "# Import & Setting"
   ]
  },
  {
   "cell_type": "code",
   "execution_count": 20,
   "metadata": {},
   "outputs": [],
   "source": [
    "import numpy as np\n",
    "import pandas as pd\n",
    "import matplotlib.pyplot as plt\n",
    "from matplotlib import rc\n",
    "import seaborn as sns\n",
    "\n",
    "import random\n",
    "import torch\n",
    "import torch.nn as nn\n",
    "import torch.optim as optim\n",
    "import torch.nn.functional as F\n",
    "from torch.utils.data import Dataset, DataLoader\n",
    "from tqdm.auto import tqdm\n",
    "from sklearn.metrics import f1_score"
   ]
  },
  {
   "cell_type": "markdown",
   "metadata": {},
   "source": [
    "# Parameter Setting"
   ]
  },
  {
   "cell_type": "code",
   "execution_count": 18,
   "metadata": {},
   "outputs": [],
   "source": [
    "CFG = {\n",
    "    'EPOCHS':10,\n",
    "    'LEARNING_RATE':1e-2,\n",
    "    'BATCH_SIZE':64,\n",
    "    'SEED':41\n",
    "}"
   ]
  },
  {
   "cell_type": "markdown",
   "metadata": {},
   "source": [
    "# Seed"
   ]
  },
  {
   "cell_type": "code",
   "execution_count": 21,
   "metadata": {},
   "outputs": [],
   "source": [
    "def seed_everything(seed):\n",
    "    random.seed(seed)\n",
    "    np.random.seed(seed)\n",
    "    torch.manual_seed(seed)\n",
    "    torch.cuda.manual_seed(seed)\n",
    "    torch.backends.cudnn.deterministic = True\n",
    "    torch.backends.cudnn.benchmark = True\n",
    "\n",
    "seed_everything(CFG['SEED']) # Seed 고정"
   ]
  },
  {
   "cell_type": "markdown",
   "metadata": {},
   "source": [
    "# Load Data"
   ]
  },
  {
   "cell_type": "code",
   "execution_count": 2,
   "metadata": {},
   "outputs": [],
   "source": [
    "file_path = '/Users/toad/Documents/ToyProject/Heat_Treatment_PdM/'"
   ]
  },
  {
   "cell_type": "code",
   "execution_count": 3,
   "metadata": {},
   "outputs": [],
   "source": [
    "train = pd.read_csv(file_path+'Data/train_normal.csv').drop(columns='Unnamed: 0')\n",
    "valid = pd.read_csv(file_path+'Data/valid_normal.csv').drop(columns='Unnamed: 0')\n",
    "test = pd.read_csv(file_path+'Data/test_normal.csv').drop(columns='Unnamed: 0')\n",
    "anomaly = pd.read_csv(file_path+'Data/anomaly_data.csv').drop(columns='Unnamed: 0')"
   ]
  },
  {
   "cell_type": "code",
   "execution_count": 4,
   "metadata": {},
   "outputs": [
    {
     "name": "stdout",
     "output_type": "stream",
     "text": [
      "Normal Data\n",
      "- Train Data : 2020534\n",
      "- Valid Data : 288648\n",
      "- Test Data : 288648\n",
      "--------------------------------\n",
      "Anomaly Data : 2717\n"
     ]
    }
   ],
   "source": [
    "print(f'Normal Data')\n",
    "print(f'- Train Data : {len(train)}')\n",
    "print(f'- Valid Data : {len(valid)}')\n",
    "print(f'- Test Data : {len(test)}')\n",
    "print(f'--------------------------------')\n",
    "print(f'Anomaly Data : {len(anomaly)}')"
   ]
  },
  {
   "cell_type": "code",
   "execution_count": 5,
   "metadata": {},
   "outputs": [
    {
     "data": {
      "text/html": [
       "<div>\n",
       "<style scoped>\n",
       "    .dataframe tbody tr th:only-of-type {\n",
       "        vertical-align: middle;\n",
       "    }\n",
       "\n",
       "    .dataframe tbody tr th {\n",
       "        vertical-align: top;\n",
       "    }\n",
       "\n",
       "    .dataframe thead th {\n",
       "        text-align: right;\n",
       "    }\n",
       "</style>\n",
       "<table border=\"1\" class=\"dataframe\">\n",
       "  <thead>\n",
       "    <tr style=\"text-align: right;\">\n",
       "      <th></th>\n",
       "      <th>CP(제어) OP</th>\n",
       "      <th>건조 1존 OP</th>\n",
       "      <th>건조 2존 OP</th>\n",
       "      <th>건조로 온도 1 Zone</th>\n",
       "      <th>건조로 온도 2 Zone</th>\n",
       "      <th>세정기</th>\n",
       "      <th>소입1존 OP</th>\n",
       "      <th>소입2존 OP</th>\n",
       "      <th>소입3존 OP</th>\n",
       "      <th>소입4존 OP</th>\n",
       "      <th>...</th>\n",
       "      <th>소입로 CP 모니터 값</th>\n",
       "      <th>소입로 온도 2 Zone</th>\n",
       "      <th>솔트 1존 OP</th>\n",
       "      <th>솔트 2존 OP</th>\n",
       "      <th>솔트 슬러지 제거</th>\n",
       "      <th>솔트 컨베이어 온도 1 Zone</th>\n",
       "      <th>솔트 컨베이어 온도 2 Zone</th>\n",
       "      <th>솔트조 온도 1 Zone</th>\n",
       "      <th>outliers_cnt</th>\n",
       "      <th>anomaly</th>\n",
       "    </tr>\n",
       "  </thead>\n",
       "  <tbody>\n",
       "    <tr>\n",
       "      <th>0</th>\n",
       "      <td>27.5181</td>\n",
       "      <td>69.4988</td>\n",
       "      <td>28.0363</td>\n",
       "      <td>100.366</td>\n",
       "      <td>100.353</td>\n",
       "      <td>69.2698</td>\n",
       "      <td>84.3415</td>\n",
       "      <td>57.7779</td>\n",
       "      <td>50.8080</td>\n",
       "      <td>70.3781</td>\n",
       "      <td>...</td>\n",
       "      <td>1.149530e-10</td>\n",
       "      <td>860.286</td>\n",
       "      <td>70.7822</td>\n",
       "      <td>59.7691</td>\n",
       "      <td>325.772</td>\n",
       "      <td>288.802</td>\n",
       "      <td>285.324</td>\n",
       "      <td>328.856</td>\n",
       "      <td>1</td>\n",
       "      <td>0</td>\n",
       "    </tr>\n",
       "    <tr>\n",
       "      <th>1</th>\n",
       "      <td>27.5181</td>\n",
       "      <td>69.5777</td>\n",
       "      <td>28.2541</td>\n",
       "      <td>100.366</td>\n",
       "      <td>100.353</td>\n",
       "      <td>69.2698</td>\n",
       "      <td>89.9508</td>\n",
       "      <td>58.0981</td>\n",
       "      <td>49.5654</td>\n",
       "      <td>70.6791</td>\n",
       "      <td>...</td>\n",
       "      <td>1.150360e-10</td>\n",
       "      <td>860.272</td>\n",
       "      <td>72.1144</td>\n",
       "      <td>59.8864</td>\n",
       "      <td>325.711</td>\n",
       "      <td>288.728</td>\n",
       "      <td>285.311</td>\n",
       "      <td>328.783</td>\n",
       "      <td>1</td>\n",
       "      <td>0</td>\n",
       "    </tr>\n",
       "    <tr>\n",
       "      <th>2</th>\n",
       "      <td>28.8494</td>\n",
       "      <td>69.6464</td>\n",
       "      <td>30.5821</td>\n",
       "      <td>100.366</td>\n",
       "      <td>100.291</td>\n",
       "      <td>69.2085</td>\n",
       "      <td>85.0744</td>\n",
       "      <td>58.0155</td>\n",
       "      <td>51.0691</td>\n",
       "      <td>70.6326</td>\n",
       "      <td>...</td>\n",
       "      <td>1.149300e-10</td>\n",
       "      <td>860.272</td>\n",
       "      <td>72.1144</td>\n",
       "      <td>59.8864</td>\n",
       "      <td>325.833</td>\n",
       "      <td>288.789</td>\n",
       "      <td>285.372</td>\n",
       "      <td>328.783</td>\n",
       "      <td>2</td>\n",
       "      <td>0</td>\n",
       "    </tr>\n",
       "    <tr>\n",
       "      <th>3</th>\n",
       "      <td>28.8494</td>\n",
       "      <td>69.8280</td>\n",
       "      <td>28.3900</td>\n",
       "      <td>100.428</td>\n",
       "      <td>100.353</td>\n",
       "      <td>69.2698</td>\n",
       "      <td>84.9387</td>\n",
       "      <td>57.9397</td>\n",
       "      <td>49.4850</td>\n",
       "      <td>70.6453</td>\n",
       "      <td>...</td>\n",
       "      <td>1.150360e-10</td>\n",
       "      <td>860.272</td>\n",
       "      <td>71.0169</td>\n",
       "      <td>59.8864</td>\n",
       "      <td>325.833</td>\n",
       "      <td>288.728</td>\n",
       "      <td>285.372</td>\n",
       "      <td>328.844</td>\n",
       "      <td>1</td>\n",
       "      <td>0</td>\n",
       "    </tr>\n",
       "    <tr>\n",
       "      <th>4</th>\n",
       "      <td>28.8494</td>\n",
       "      <td>72.1245</td>\n",
       "      <td>26.3033</td>\n",
       "      <td>100.366</td>\n",
       "      <td>100.353</td>\n",
       "      <td>69.2085</td>\n",
       "      <td>84.9810</td>\n",
       "      <td>57.9252</td>\n",
       "      <td>49.4771</td>\n",
       "      <td>70.6567</td>\n",
       "      <td>...</td>\n",
       "      <td>1.150360e-10</td>\n",
       "      <td>860.272</td>\n",
       "      <td>71.0169</td>\n",
       "      <td>59.8864</td>\n",
       "      <td>325.833</td>\n",
       "      <td>288.728</td>\n",
       "      <td>285.372</td>\n",
       "      <td>328.844</td>\n",
       "      <td>1</td>\n",
       "      <td>0</td>\n",
       "    </tr>\n",
       "  </tbody>\n",
       "</table>\n",
       "<p>5 rows × 21 columns</p>\n",
       "</div>"
      ],
      "text/plain": [
       "   CP(제어) OP  건조 1존 OP  건조 2존 OP  건조로 온도 1 Zone  건조로 온도 2 Zone      세정기  \\\n",
       "0    27.5181   69.4988   28.0363        100.366        100.353  69.2698   \n",
       "1    27.5181   69.5777   28.2541        100.366        100.353  69.2698   \n",
       "2    28.8494   69.6464   30.5821        100.366        100.291  69.2085   \n",
       "3    28.8494   69.8280   28.3900        100.428        100.353  69.2698   \n",
       "4    28.8494   72.1245   26.3033        100.366        100.353  69.2085   \n",
       "\n",
       "   소입1존 OP  소입2존 OP  소입3존 OP  소입4존 OP  ...  소입로 CP 모니터 값  소입로 온도 2 Zone  \\\n",
       "0  84.3415  57.7779  50.8080  70.3781  ...  1.149530e-10        860.286   \n",
       "1  89.9508  58.0981  49.5654  70.6791  ...  1.150360e-10        860.272   \n",
       "2  85.0744  58.0155  51.0691  70.6326  ...  1.149300e-10        860.272   \n",
       "3  84.9387  57.9397  49.4850  70.6453  ...  1.150360e-10        860.272   \n",
       "4  84.9810  57.9252  49.4771  70.6567  ...  1.150360e-10        860.272   \n",
       "\n",
       "   솔트 1존 OP  솔트 2존 OP  솔트 슬러지 제거  솔트 컨베이어 온도 1 Zone  솔트 컨베이어 온도 2 Zone  \\\n",
       "0   70.7822   59.7691    325.772            288.802            285.324   \n",
       "1   72.1144   59.8864    325.711            288.728            285.311   \n",
       "2   72.1144   59.8864    325.833            288.789            285.372   \n",
       "3   71.0169   59.8864    325.833            288.728            285.372   \n",
       "4   71.0169   59.8864    325.833            288.728            285.372   \n",
       "\n",
       "   솔트조 온도 1 Zone  outliers_cnt  anomaly  \n",
       "0        328.856             1        0  \n",
       "1        328.783             1        0  \n",
       "2        328.783             2        0  \n",
       "3        328.844             1        0  \n",
       "4        328.844             1        0  \n",
       "\n",
       "[5 rows x 21 columns]"
      ]
     },
     "metadata": {},
     "output_type": "display_data"
    },
    {
     "name": "stdout",
     "output_type": "stream",
     "text": [
      "Columns : ['CP(제어) OP' '건조 1존 OP' '건조 2존 OP' '건조로 온도 1 Zone' '건조로 온도 2 Zone' '세정기'\n",
      " '소입1존 OP' '소입2존 OP' '소입3존 OP' '소입4존 OP' '소입로 CP 값' '소입로 CP 모니터 값'\n",
      " '소입로 온도 2 Zone' '솔트 1존 OP' '솔트 2존 OP' '솔트 슬러지 제거' '솔트 컨베이어 온도 1 Zone'\n",
      " '솔트 컨베이어 온도 2 Zone' '솔트조 온도 1 Zone' 'outliers_cnt' 'anomaly']\n"
     ]
    }
   ],
   "source": [
    "display(train.head())\n",
    "print(f'Columns : {train.columns.values}')"
   ]
  },
  {
   "cell_type": "markdown",
   "metadata": {},
   "source": [
    "# Data Processing"
   ]
  },
  {
   "cell_type": "markdown",
   "metadata": {},
   "source": [
    "#### Delete outliers count & anomaly feature"
   ]
  },
  {
   "cell_type": "code",
   "execution_count": 11,
   "metadata": {},
   "outputs": [
    {
     "name": "stdout",
     "output_type": "stream",
     "text": [
      "train cols : 21\n",
      "valid cols : 21\n",
      "test cols : 21\n",
      "anomaly cols : 21\n",
      "train cols : 19\n",
      "valid cols : 19\n",
      "test cols : 19\n",
      "anomaly cols : 19\n"
     ]
    }
   ],
   "source": [
    "print(f'''train cols : {len(train.columns)}\n",
    "valid cols : {len(valid.columns)}\n",
    "test cols : {len(test.columns)}\n",
    "anomaly cols : {len(anomaly.columns)}''')\n",
    "train.drop(columns=['outliers_cnt', 'anomaly'], inplace=True)\n",
    "valid.drop(columns=['outliers_cnt', 'anomaly'], inplace=True)\n",
    "test.drop(columns=['outliers_cnt', 'anomaly'], inplace=True)\n",
    "anomaly.drop(columns=['outliers_cnt', 'anomaly'], inplace=True)\n",
    "print(f'''train cols : {len(train.columns)}\n",
    "valid cols : {len(valid.columns)}\n",
    "test cols : {len(test.columns)}\n",
    "anomaly cols : {len(anomaly.columns)}''')"
   ]
  },
  {
   "cell_type": "markdown",
   "metadata": {},
   "source": [
    "#### Scaling"
   ]
  },
  {
   "cell_type": "code",
   "execution_count": 13,
   "metadata": {},
   "outputs": [],
   "source": [
    "from sklearn.preprocessing import MinMaxScaler\n",
    "\n",
    "scaler = MinMaxScaler()\n",
    "\n",
    "# For normal Test data\n",
    "train_scaled = scaler.fit_transform(train)\n",
    "valid_scaled = scaler.transform(valid)\n",
    "test_scaled = scaler.transform(test)\n",
    "anomaly_scaled = scaler.transform(anomaly)"
   ]
  },
  {
   "cell_type": "markdown",
   "metadata": {},
   "source": [
    "# Dataset\n"
   ]
  },
  {
   "cell_type": "code",
   "execution_count": 15,
   "metadata": {},
   "outputs": [
    {
     "name": "stdout",
     "output_type": "stream",
     "text": [
      "cpu\n"
     ]
    }
   ],
   "source": [
    "device = torch.device('cuda') if torch.cuda.is_available() else torch.device('cpu')\n",
    "print(device)"
   ]
  },
  {
   "cell_type": "code",
   "execution_count": 17,
   "metadata": {},
   "outputs": [],
   "source": [
    "class CustomDataset(Dataset):\n",
    "    def __init__(self, data):\n",
    "        self.data = data\n",
    "\n",
    "        \n",
    "    def __getitem__(self, index): \n",
    "        return self.data[index]\n",
    "        \n",
    "    def __len__(self): \n",
    "        return self.data.shape[0]"
   ]
  },
  {
   "cell_type": "code",
   "execution_count": 22,
   "metadata": {},
   "outputs": [],
   "source": [
    "train_dataset = CustomDataset(train_scaled)\n",
    "valid_dataset = CustomDataset(valid_scaled)\n",
    "test_dataset = CustomDataset(test_scaled)\n",
    "anomaly_dataset = CustomDataset(anomaly_scaled)\n",
    "\n",
    "train_dataloader = DataLoader(train_dataset, batch_size=CFG['BATCH_SIZE'], shuffle=True)\n",
    "valid_dataloader = DataLoader(valid_dataset, batch_size=CFG['BATCH_SIZE'], shuffle=True)\n",
    "test_dataloader = DataLoader(test_dataset, batch_size=CFG['BATCH_SIZE'], shuffle=True)\n",
    "anomaly_dataloader = DataLoader(anomaly_dataset, batch_size=CFG['BATCH_SIZE'], shuffle=True)"
   ]
  },
  {
   "cell_type": "markdown",
   "metadata": {},
   "source": [
    "# Modeling"
   ]
  },
  {
   "cell_type": "code",
   "execution_count": null,
   "metadata": {},
   "outputs": [],
   "source": [
    "class AutoEncoder(nn.Module):\n",
    "    def __init__(self):\n",
    "        super(AutoEncoder, self).__init__()\n",
    "        self.Encoder = nn.Sequential(\n",
    "            nn.Linear(19,32),\n",
    "            nn.ReLU(),\n",
    "            nn.Linear(32, 64),\n",
    "            nn.ReLU(),\n",
    "            nn.Linear(64, 128),\n",
    "            nn.ReLU()\n",
    "        )\n",
    "\n",
    "        self.Decoder = nn.Sequential(\n",
    "            nn.Linear(128,64),\n",
    "            nn.ReLU(),\n",
    "            nn.Linear(64,32),\n",
    "            nn.ReLU(),\n",
    "            nn.Linear(32,19),\n",
    "            nn.ReLU(),\n",
    "        )\n",
    "        \n",
    "    def forward(self, x):\n",
    "        x = self.Encoder(x)\n",
    "        x = self.Decoder(x)\n",
    "        return x"
   ]
  },
  {
   "cell_type": "markdown",
   "metadata": {},
   "source": [
    "# Train"
   ]
  },
  {
   "cell_type": "code",
   "execution_count": null,
   "metadata": {},
   "outputs": [],
   "source": [
    "# def train(model, optimizer, train_dataloader, )"
   ]
  }
 ],
 "metadata": {
  "kernelspec": {
   "display_name": "base",
   "language": "python",
   "name": "python3"
  },
  "language_info": {
   "codemirror_mode": {
    "name": "ipython",
    "version": 3
   },
   "file_extension": ".py",
   "mimetype": "text/x-python",
   "name": "python",
   "nbconvert_exporter": "python",
   "pygments_lexer": "ipython3",
   "version": "3.11.3"
  }
 },
 "nbformat": 4,
 "nbformat_minor": 2
}
